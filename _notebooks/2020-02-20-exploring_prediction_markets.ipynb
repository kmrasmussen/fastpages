{
 "cells": [
  {
   "cell_type": "markdown",
   "metadata": {},
   "source": [
    "# Exploring prediction markets\n",
    "> I want to explore some ideas about making bets\n",
    "\n",
    "- toc: true \n",
    "- badges: true\n",
    "- comments: true\n",
    "- categories: [prediction markets, betting]"
   ]
  },
  {
   "cell_type": "markdown",
   "metadata": {},
   "source": [
    "# Introduction to ideas"
   ]
  },
  {
   "cell_type": "markdown",
   "metadata": {},
   "source": [
    "Alice and Bob are rational agents with their own current beliefs about whether Mr. T. will win the election. Mr. T. will either win or not, and so they view it as a Bernoulli variable $X$. Truly $X \\sim \\text{Ber}(\\theta_{true})$.\n",
    "\n",
    "Alice and Bob both have point estimates about the probability. They are $\\theta_{a}$ and $\\theta_{b}$ respectively, and therefore their beliefs are represented by their belief distributions $p_{a}(x) = \\text{Ber}(x; \\theta_{a})$ and $p_{b}(x) = \\text{Ber}(x; \\theta_{b})$.\n",
    "\n",
    "How can Alice and Bob set up a bet they are both satisfied with?"
   ]
  },
  {
   "cell_type": "markdown",
   "metadata": {},
   "source": [
    "# Pot splitting"
   ]
  },
  {
   "cell_type": "markdown",
   "metadata": {},
   "source": [
    "The first idea Alice and Bob have is the following: They both put 50 cent in a pot, so now there is 1 dollar in the pot. When the election is over Alice and Bob will be honest with each about who truly won the election, so after the outcome of $X$ is revealed there will be no dispute.\n",
    "\n",
    "How will they split the pot? Their first idea is the following. A gets fraction $f_a$ of the outcome,\n",
    "\n",
    "$$\n",
    "f_b(x) = \\frac{p_a(x)}{p_a(x) + p_b(x)}\n",
    "$$"
   ]
  },
  {
   "cell_type": "markdown",
   "metadata": {},
   "source": [
    "Then *given* that A has belief $p_a$, A should expect to win\n",
    "$$\n",
    "\\mathbb{E}_{x \\sim p_a}[f_a(x)] = \\theta_a \\frac{\\theta_a}{\\theta_a + \\theta_b} + (1-\\theta_a) \\frac{1 - \\theta_a}{(1-\\theta_a) + (1-\\theta_b)}\n",
    "$$"
   ]
  },
  {
   "cell_type": "markdown",
   "metadata": {},
   "source": [
    "Likewise B expects $\\mathbb{E}_{x \\sim p_b}[f_b]$. Making a rule that $\\theta_a$ and $\\theta_b$ should be in the open interval $(0,1)$ - no absolute certainty - is sufficient condition for this expectation being defined, since then there is no division by zero. Also, only a Sith deals in absolutes."
   ]
  },
  {
   "cell_type": "markdown",
   "metadata": {},
   "source": [
    "If instead of just two players and two outcomes, there are $M$ players and $K$ outcomes (a categorical variable), then an equivalent rule for how much each player $m$ should get would be\n",
    "$$\n",
    "f_m(k) = \\frac{p_m(k)}{\\sum_{i=1}^{M} p_i(k)}\n",
    "$$\n",
    "and player $m$ would expect to win\n",
    "$$\\mathbb{E}_{k \\sim p_m}[f_m(k)] = \\sum_{k=1}p_m(k) f_m(k) = \\sum_{k=1} p_m(k) \\frac{p_m(k)}{\\sum_{i=1}^{M} p_i(k)}$$"
   ]
  },
  {
   "cell_type": "markdown",
   "metadata": {},
   "source": [
    "We could call $\\mathbb{E}_{k \\sim p_m}[f_m(k)]$ the \"open self-expected prize\" for player $m$ and denote it $Z_m$. It is \"open\" because it is a function of all the probabilities, so Alice would only be able to compute it if she knew the probabilities of all the others. It is \"self-expected\" because Alice computes the expectation with respect to her own beliefs about the outcome."
   ]
  },
  {
   "cell_type": "markdown",
   "metadata": {},
   "source": [
    "# Would Alice and Bob participate in such a bet?"
   ]
  },
  {
   "cell_type": "markdown",
   "metadata": {},
   "source": [
    "If the $m$ players contribute an equal amount to the pot, then the fraction of the pot they will have at stake is $\\frac{1}{M}$ dollars. Alice realized the same thing, that she expects to win $Z_a$. She is willing to participate in the bet if she does not expect to win less than what she has at stake. That means, a player $m$ is willing to participate if\n",
    "$$\n",
    "Z_m \\geq \\frac{1}{M}\n",
    "$$"
   ]
  },
  {
   "cell_type": "markdown",
   "metadata": {},
   "source": [
    "For finite number of agents $M$ and finite number of outcomes $K$, this inequality always holds. See [this MathOverflow post](https://mathoverflow.net/questions/416333/inequality-for-matrix-with-rows-summing-to-1). Thanks Federico Poloni and Iosif Pinelis!"
   ]
  },
  {
   "cell_type": "markdown",
   "metadata": {},
   "source": [
    "# Is such a bet realistic?"
   ]
  },
  {
   "cell_type": "markdown",
   "metadata": {},
   "source": [
    "Intuitively this tells us, that no matter what Bob thought, Alice would be able to compute $Z_a$ and come out in favor of participating in the bet. Likewise would Bob."
   ]
  },
  {
   "cell_type": "markdown",
   "metadata": {},
   "source": [
    "# If Bob said his belief, Alice could want to lie!"
   ]
  },
  {
   "cell_type": "markdown",
   "metadata": {},
   "source": [
    "Let's say that Bob told Alice that his belief was $\\theta_b = .3$. Assume that truly Alice has belief $\\theta_a = .5$.\n",
    "We can view all of this as a matrix $P$ showing the belief."
   ]
  },
  {
   "cell_type": "code",
   "execution_count": 51,
   "metadata": {},
   "outputs": [
    {
     "name": "stdout",
     "output_type": "stream",
     "text": [
      "P: tensor([[0.7000, 0.3000],\n",
      "        [0.5000, 0.5000]])\n"
     ]
    }
   ],
   "source": [
    "#collapse_hide\n",
    "import torch\n",
    "P = torch.tensor([\n",
    "    [.7,.3],\n",
    "    [.5,.5]\n",
    "])\n",
    "print('P:',P)"
   ]
  },
  {
   "cell_type": "markdown",
   "metadata": {},
   "source": [
    "Then $Z_m$ is computed as follows"
   ]
  },
  {
   "cell_type": "code",
   "execution_count": 52,
   "metadata": {},
   "outputs": [],
   "source": [
    "def Z(m,P):\n",
    "    return P[m] @ (P[m] / P.sum(dim=0))"
   ]
  },
  {
   "cell_type": "markdown",
   "metadata": {},
   "source": [
    "Alice and Bob have exactly the same $Z$. For more players than two, this will not be the case."
   ]
  },
  {
   "cell_type": "code",
   "execution_count": 53,
   "metadata": {},
   "outputs": [
    {
     "name": "stdout",
     "output_type": "stream",
     "text": [
      "Z_a :  0.5208333134651184\n",
      "Z_b :  0.5208333134651184\n"
     ]
    }
   ],
   "source": [
    "#collapse_hide\n",
    "print('Z_a : ', Z(0,P).item())\n",
    "print('Z_b : ', Z(1,P).item())"
   ]
  },
  {
   "cell_type": "markdown",
   "metadata": {},
   "source": [
    "But we just said that Bob said his belief first, so now the question is - would Alice want to lie about her beliefs in order to win more? To think about this we have to distinguish between the belief-distribution and the commit-distribution. For now we assume that players never change their real beliefs about the outcome, but they might present a different distribution:"
   ]
  },
  {
   "cell_type": "markdown",
   "metadata": {},
   "source": [
    "We write $q_a = \\text{Ber}(\\theta'_a)$ to denote the distribution with which Alice participates in the bet, so she will get\n",
    "\n",
    "$$f'_a(x) = \\frac{q_a(x)}{q_a(x) + q_b(x)}$$"
   ]
  },
  {
   "cell_type": "markdown",
   "metadata": {},
   "source": [
    "With this change we can look at what a player $m$ expects to win $W_m = \\mathbb{E}_{x \\sim p_m}[f'_m(x)]$. The expectation is with respect to what the player truly belives about what will happen, but the public distribution $q_m(x)$ is what is used to compute the fraction. "
   ]
  },
  {
   "cell_type": "code",
   "execution_count": 54,
   "metadata": {},
   "outputs": [],
   "source": [
    "def W(m,P,Q):\n",
    "    return P[m] @ (Q[m] / Q.sum(dim=0))"
   ]
  },
  {
   "cell_type": "markdown",
   "metadata": {},
   "source": [
    "What if Alice chose to lie, and say that her belief is $.51$ instead of $.5$? Then her self-expectation $W_a > Z_a$, she would be better off by being dishonest."
   ]
  },
  {
   "cell_type": "code",
   "execution_count": 59,
   "metadata": {},
   "outputs": [
    {
     "name": "stdout",
     "output_type": "stream",
     "text": [
      "Q: tensor([[0.7000, 0.3000],\n",
      "        [0.4900, 0.5100]])\n"
     ]
    }
   ],
   "source": [
    "#collapse_hide\n",
    "import torch\n",
    "Q = torch.tensor([\n",
    "    [.7,.3],\n",
    "    [.49,.51]\n",
    "])\n",
    "print('Q:', Q)"
   ]
  },
  {
   "cell_type": "code",
   "execution_count": 60,
   "metadata": {},
   "outputs": [
    {
     "name": "stdout",
     "output_type": "stream",
     "text": [
      "Q_a :  0.5228757858276367\n",
      "Q_b :  0.5206971168518066\n"
     ]
    }
   ],
   "source": [
    "#collapse_hide\n",
    "print('Q_a : ', W(0,P,Q).item())\n",
    "print('Q_b : ', W(1,P,Q).item())"
   ]
  },
  {
   "cell_type": "markdown",
   "metadata": {},
   "source": []
  }
 ],
 "metadata": {
  "kernelspec": {
   "display_name": "Python 3 (ipykernel)",
   "language": "python",
   "name": "python3"
  },
  "language_info": {
   "codemirror_mode": {
    "name": "ipython",
    "version": 3
   },
   "file_extension": ".py",
   "mimetype": "text/x-python",
   "name": "python",
   "nbconvert_exporter": "python",
   "pygments_lexer": "ipython3",
   "version": "3.9.7"
  },
  "varInspector": {
   "cols": {
    "lenName": 16,
    "lenType": 16,
    "lenVar": 40
   },
   "kernels_config": {
    "python": {
     "delete_cmd_postfix": "",
     "delete_cmd_prefix": "del ",
     "library": "var_list.py",
     "varRefreshCmd": "print(var_dic_list())"
    },
    "r": {
     "delete_cmd_postfix": ") ",
     "delete_cmd_prefix": "rm(",
     "library": "var_list.r",
     "varRefreshCmd": "cat(var_dic_list()) "
    }
   },
   "types_to_exclude": [
    "module",
    "function",
    "builtin_function_or_method",
    "instance",
    "_Feature"
   ],
   "window_display": false
  }
 },
 "nbformat": 4,
 "nbformat_minor": 4
}
