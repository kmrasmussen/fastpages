{
 "cells": [
  {
   "cell_type": "markdown",
   "metadata": {},
   "source": [
    "# Exploring prediction markets\n",
    "> I want to explore some ideas about making bets\n",
    "\n",
    "- toc: true \n",
    "- badges: true\n",
    "- comments: true\n",
    "- categories: [prediction markets, betting]"
   ]
  },
  {
   "cell_type": "markdown",
   "metadata": {},
   "source": [
    "# Introduction to ideas"
   ]
  },
  {
   "cell_type": "markdown",
   "metadata": {},
   "source": [
    "Alice and Bob are rational agents with their own current beliefs about whether Mr. T. will win the election. Mr. T. will either win or not, and so they view it as a Bernoulli variable $X$. Truly $X \\sim \\text{Ber}(\\theta_{true})$.\n",
    "\n",
    "Alice and Bob both have point estimates about the probability. They are $\\theta_{a}$ and $\\theta_{b}$ respectively, and therefore their beliefs are represented by their belief distributions $p_{a}(x) = \\text{Ber}(x; \\theta_{a})$ and $p_{b}(x) = \\text{Ber}(x; \\theta_{b})$.\n",
    "\n",
    "How can Alice and Bob set up a bet they are both satisfied with?"
   ]
  },
  {
   "cell_type": "markdown",
   "metadata": {},
   "source": [
    "# Pot splitting"
   ]
  },
  {
   "cell_type": "markdown",
   "metadata": {},
   "source": [
    "The first idea Alice and Bob have is the following: They both put 50 cent in a pot, so now there is \\\\$1 in the pot.\n",
    "\n",
    "Suppose they know, they will not agree about who wins the election. The outcome $x$ of $X$ will be unamiguously known. How will they split the pot. Their first idea is the following. A gets fraction $f_a$ of the outcome,\n",
    "\n",
    "$$\n",
    "f_b(x) = \\frac{p_a(x)}{p_a(x) + p_b(x)}\n",
    "$$"
   ]
  },
  {
   "cell_type": "markdown",
   "metadata": {},
   "source": [
    "Then *given* that A has belief $p_a$, A should expect to win\n",
    "$$\n",
    "\\mathbb{E}_{x \\sim p_a}[f_a(x)] = \\theta_a \\frac{\\theta_a}{\\theta_a + \\theta_b} + (1-\\theta_a) \\frac{1 - \\theta_a}{(1-\\theta_a) + (1-\\theta_b)}\n",
    "$$"
   ]
  },
  {
   "cell_type": "markdown",
   "metadata": {},
   "source": [
    "Likewise B expects $\\mathbb{E}_{x \\sim p_b}[f_b]$. Making a rule that $\\theta_a$ and $\\theta_b$ should be in the open interval $(0,1)$ - no absolute certainty - is sufficient condition for this expectation being defined, since then there is no division by zero. Also, only a Sith deals in absolutes."
   ]
  },
  {
   "cell_type": "markdown",
   "metadata": {},
   "source": [
    "If instead of just two players and two outcomes, there are $M$ players and $K$ outcomes (a categorical variable), then an equivalent rule for how much each player $m$ should get would be\n",
    "$$\n",
    "f_m(k) = \\frac{p_m(k)}{\\sum_{i=1}^{M} p_i(k)}\n",
    "$$\n",
    "and player $m$ would expect to win\n",
    "$$\\mathbb{E}_{k \\sim p_m}[f_m(k)] = \\sum_{k=1}p_m(k) f_m(k) = \\sum_{k=1} p_m(k) \\frac{p_m(k)}{\\sum_{i=1}^{M} p_i(k)}$$"
   ]
  },
  {
   "cell_type": "markdown",
   "metadata": {},
   "source": [
    "# Would Alice and Bob participate in such a bet?"
   ]
  },
  {
   "cell_type": "code",
   "execution_count": null,
   "metadata": {},
   "outputs": [],
   "source": []
  }
 ],
 "metadata": {
  "kernelspec": {
   "display_name": "Python 3 (ipykernel)",
   "language": "python",
   "name": "python3"
  },
  "language_info": {
   "codemirror_mode": {
    "name": "ipython",
    "version": 3
   },
   "file_extension": ".py",
   "mimetype": "text/x-python",
   "name": "python",
   "nbconvert_exporter": "python",
   "pygments_lexer": "ipython3",
   "version": "3.9.7"
  },
  "varInspector": {
   "cols": {
    "lenName": 16,
    "lenType": 16,
    "lenVar": 40
   },
   "kernels_config": {
    "python": {
     "delete_cmd_postfix": "",
     "delete_cmd_prefix": "del ",
     "library": "var_list.py",
     "varRefreshCmd": "print(var_dic_list())"
    },
    "r": {
     "delete_cmd_postfix": ") ",
     "delete_cmd_prefix": "rm(",
     "library": "var_list.r",
     "varRefreshCmd": "cat(var_dic_list()) "
    }
   },
   "types_to_exclude": [
    "module",
    "function",
    "builtin_function_or_method",
    "instance",
    "_Feature"
   ],
   "window_display": false
  }
 },
 "nbformat": 4,
 "nbformat_minor": 4
}
